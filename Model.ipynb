{
 "cells": [
  {
   "cell_type": "code",
   "execution_count": 41,
   "metadata": {},
   "outputs": [],
   "source": [
    "import numpy as np\n",
    "import pandas as pd\n",
    "\n",
    "import re\n",
    "import string # for text cleaning\n",
    "import contractions # for expanding short form words\n",
    "from tqdm import tqdm\n",
    "tqdm.pandas(desc=\"Progress Bar\")\n",
    "\n",
    "import torch\n",
    "from datasets import load_dataset\n",
    "from transformers import DistilBertTokenizer, DistilBertModel\n",
    "from sklearn.metrics.pairwise import cosine_similarity"
   ]
  },
  {
   "cell_type": "code",
   "execution_count": 42,
   "metadata": {},
   "outputs": [],
   "source": [
    "df = pd.read_csv(\"/Users/samyukthaganesh/Documents/Samyuktha/University/MachineLearning/SEM7Project/training_data.csv\")"
   ]
  },
  {
   "cell_type": "code",
   "execution_count": 43,
   "metadata": {},
   "outputs": [
    {
     "data": {
      "text/plain": [
       "<bound method NDFrame.head of              company_name                                    job_description  \\\n",
       "0                  Google  minimum qualifications\\nbachelors degree or eq...   \n",
       "1                   Apple  description\\nas an asc you will be highly infl...   \n",
       "2                 Netflix  its an amazing time to be joining netflix as w...   \n",
       "3             Robert Half  description\\n\\nweb designers looking to expand...   \n",
       "4               TrackFive  at trackfive weve got big goals were on a miss...   \n",
       "..                    ...                                                ...   \n",
       "848               Menards  job description\\n\\nparttime\\n\\nmake big money ...   \n",
       "849                Parker  responsibilities\\nparkers internship program w...   \n",
       "850        Borgen Project   the borgen project is an innovative national ...   \n",
       "851  Wyndham Destinations  put the world on vacation\\n\\nat wyndham destin...   \n",
       "852               Aerotek  this job handles customer inquiries by telepho...   \n",
       "\n",
       "                                        position_title  description_length  \\\n",
       "0                                     Sales Specialist                2727   \n",
       "1                           Apple Solutions Consultant                 828   \n",
       "2            Licensing Coordinator - Consumer Products                3205   \n",
       "3                                         Web Designer                2489   \n",
       "4                                        Web Developer                3167   \n",
       "..                                                 ...                 ...   \n",
       "848                              Management Internship                1122   \n",
       "849  Human Resources Internship - Corporate  (Year-...                3840   \n",
       "850                     Writer / Journalist Internship                 897   \n",
       "851          Inbound Customer Service / Sales (Remote)                4604   \n",
       "852     Remote Inbound Customer Service Representative                1592   \n",
       "\n",
       "                                        model_response  \n",
       "0     {\\n  \"Core Responsibilities\": \"Responsible fo...  \n",
       "1     {\\n  \"Core Responsibilities\": \"as an asc you ...  \n",
       "2     {\\n  \"Core Responsibilities\": \"Help drive bus...  \n",
       "3     {\\n  \"Core Responsibilities\": \"Designing webs...  \n",
       "4     {\\n  \"Core Responsibilities\": \"Build and layo...  \n",
       "..                                                 ...  \n",
       "848   {\\n  \"Core Responsibilities\": \"Responsibiliti...  \n",
       "849   {\\n  \"Core Responsibilities\": \"Assist in gene...  \n",
       "850   {\\n  \"Core Responsibilities\": \"Write one arti...  \n",
       "851   {\\n  \"Core Responsibilities\": \"Answer inbound...  \n",
       "852   {\\n  \"Core Responsibilities\": \"Handle incomin...  \n",
       "\n",
       "[853 rows x 5 columns]>"
      ]
     },
     "execution_count": 43,
     "metadata": {},
     "output_type": "execute_result"
    }
   ],
   "source": [
    "df.head"
   ]
  },
  {
   "cell_type": "code",
   "execution_count": 44,
   "metadata": {},
   "outputs": [
    {
     "data": {
      "text/html": [
       "<div>\n",
       "<style scoped>\n",
       "    .dataframe tbody tr th:only-of-type {\n",
       "        vertical-align: middle;\n",
       "    }\n",
       "\n",
       "    .dataframe tbody tr th {\n",
       "        vertical-align: top;\n",
       "    }\n",
       "\n",
       "    .dataframe thead th {\n",
       "        text-align: right;\n",
       "    }\n",
       "</style>\n",
       "<table border=\"1\" class=\"dataframe\">\n",
       "  <thead>\n",
       "    <tr style=\"text-align: right;\">\n",
       "      <th></th>\n",
       "      <th>company_name</th>\n",
       "      <th>job_description</th>\n",
       "      <th>position_title</th>\n",
       "      <th>description_length</th>\n",
       "      <th>model_response</th>\n",
       "    </tr>\n",
       "  </thead>\n",
       "  <tbody>\n",
       "    <tr>\n",
       "      <th>0</th>\n",
       "      <td>Google</td>\n",
       "      <td>minimum qualifications\\nbachelors degree or eq...</td>\n",
       "      <td>Sales Specialist</td>\n",
       "      <td>2727</td>\n",
       "      <td>{\\n  \"Core Responsibilities\": \"Responsible fo...</td>\n",
       "    </tr>\n",
       "    <tr>\n",
       "      <th>1</th>\n",
       "      <td>Apple</td>\n",
       "      <td>description\\nas an asc you will be highly infl...</td>\n",
       "      <td>Apple Solutions Consultant</td>\n",
       "      <td>828</td>\n",
       "      <td>{\\n  \"Core Responsibilities\": \"as an asc you ...</td>\n",
       "    </tr>\n",
       "    <tr>\n",
       "      <th>2</th>\n",
       "      <td>Netflix</td>\n",
       "      <td>its an amazing time to be joining netflix as w...</td>\n",
       "      <td>Licensing Coordinator - Consumer Products</td>\n",
       "      <td>3205</td>\n",
       "      <td>{\\n  \"Core Responsibilities\": \"Help drive bus...</td>\n",
       "    </tr>\n",
       "    <tr>\n",
       "      <th>3</th>\n",
       "      <td>Robert Half</td>\n",
       "      <td>description\\n\\nweb designers looking to expand...</td>\n",
       "      <td>Web Designer</td>\n",
       "      <td>2489</td>\n",
       "      <td>{\\n  \"Core Responsibilities\": \"Designing webs...</td>\n",
       "    </tr>\n",
       "    <tr>\n",
       "      <th>4</th>\n",
       "      <td>TrackFive</td>\n",
       "      <td>at trackfive weve got big goals were on a miss...</td>\n",
       "      <td>Web Developer</td>\n",
       "      <td>3167</td>\n",
       "      <td>{\\n  \"Core Responsibilities\": \"Build and layo...</td>\n",
       "    </tr>\n",
       "  </tbody>\n",
       "</table>\n",
       "</div>"
      ],
      "text/plain": [
       "  company_name                                    job_description  \\\n",
       "0       Google  minimum qualifications\\nbachelors degree or eq...   \n",
       "1        Apple  description\\nas an asc you will be highly infl...   \n",
       "2      Netflix  its an amazing time to be joining netflix as w...   \n",
       "3  Robert Half  description\\n\\nweb designers looking to expand...   \n",
       "4    TrackFive  at trackfive weve got big goals were on a miss...   \n",
       "\n",
       "                              position_title  description_length  \\\n",
       "0                           Sales Specialist                2727   \n",
       "1                 Apple Solutions Consultant                 828   \n",
       "2  Licensing Coordinator - Consumer Products                3205   \n",
       "3                               Web Designer                2489   \n",
       "4                              Web Developer                3167   \n",
       "\n",
       "                                      model_response  \n",
       "0   {\\n  \"Core Responsibilities\": \"Responsible fo...  \n",
       "1   {\\n  \"Core Responsibilities\": \"as an asc you ...  \n",
       "2   {\\n  \"Core Responsibilities\": \"Help drive bus...  \n",
       "3   {\\n  \"Core Responsibilities\": \"Designing webs...  \n",
       "4   {\\n  \"Core Responsibilities\": \"Build and layo...  "
      ]
     },
     "execution_count": 44,
     "metadata": {},
     "output_type": "execute_result"
    }
   ],
   "source": [
    "jd_df = pd.DataFrame(df)\n",
    "jd_df.head()"
   ]
  },
  {
   "cell_type": "code",
   "execution_count": 45,
   "metadata": {},
   "outputs": [
    {
     "data": {
      "text/plain": [
       "Index(['company_name', 'job_description', 'position_title',\n",
       "       'description_length', 'model_response'],\n",
       "      dtype='object')"
      ]
     },
     "execution_count": 45,
     "metadata": {},
     "output_type": "execute_result"
    }
   ],
   "source": [
    "jd_df.columns"
   ]
  },
  {
   "cell_type": "code",
   "execution_count": 46,
   "metadata": {},
   "outputs": [],
   "source": [
    "def text_cleaning(text:str) -> str:\n",
    "    if pd.isnull(text):\n",
    "        return\n",
    "    \n",
    "    # lower-case everything\n",
    "    text = text.lower().strip()\n",
    "    \n",
    "    # For removing puctuations\n",
    "    translator = str.maketrans('', '', string.punctuation)\n",
    "    \n",
    "    # expand all the short-form words\n",
    "    text = contractions.fix(text)\n",
    "    \n",
    "    # remove any special chars\n",
    "    text = re.sub(r'http\\S+|www\\S+|https\\S+', '', text) # Remove URLs\n",
    "    text = re.sub(r'\\S+@\\S+', '', text) # Remove emails\n",
    "    text = re.sub(r'\\b\\d{1,3}[-./]?\\d{1,3}[-./]?\\d{1,4}\\b', '', text) # Remove phone numbers\n",
    "    text = text.translate(translator) # Remove puctuations\n",
    "    text = re.sub(r'[^a-zA-Z]', ' ', text) # Remove other non-alphanumeric characters\n",
    "    \n",
    "    return text.strip()"
   ]
  },
  {
   "cell_type": "code",
   "execution_count": 47,
   "metadata": {},
   "outputs": [
    {
     "name": "stderr",
     "output_type": "stream",
     "text": [
      "Progress Bar: 100%|██████████| 2469/2469 [00:00<00:00, 8896.97it/s]\n"
     ]
    }
   ],
   "source": [
    "df = pd.read_csv(\"/Users/samyukthaganesh/Documents/Samyuktha/University/MachineLearning/SEM7Project/pdf_extracted_skills_education.csv\")\n",
    "cv_df = df[~(df['Skills'].isna() & df['Education'].isna())].reset_index(drop=True)\n",
    "\n",
    "# Filling the null values in Skills & Education with Empty String before concatinating them\n",
    "cv_df = cv_df.fillna(value='')\n",
    "\n",
    "# Let's stitch together Skills & Education, similar to given in job description.\n",
    "cv_df['CV'] = cv_df['Skills'] + ' ' + cv_df['Education']\n",
    "\n",
    "# Doing text cleaning\n",
    "cv_df['CV'] = cv_df['CV'].progress_apply(text_cleaning)"
   ]
  },
  {
   "cell_type": "code",
   "execution_count": 48,
   "metadata": {},
   "outputs": [
    {
     "data": {
      "text/plain": [
       "(2469, 5)"
      ]
     },
     "execution_count": 48,
     "metadata": {},
     "output_type": "execute_result"
    }
   ],
   "source": [
    "cv_df.shape"
   ]
  },
  {
   "cell_type": "code",
   "execution_count": 49,
   "metadata": {},
   "outputs": [
    {
     "data": {
      "text/plain": [
       "Index(['Skills', 'Education', 'ID', 'Category', 'CV'], dtype='object')"
      ]
     },
     "execution_count": 49,
     "metadata": {},
     "output_type": "execute_result"
    }
   ],
   "source": [
    "cv_df.columns"
   ]
  },
  {
   "cell_type": "code",
   "execution_count": 50,
   "metadata": {},
   "outputs": [],
   "source": [
    "job_descriptions = jd_df['job_description'].apply(text_cleaning)[:15].to_list() # jd_df['job_description'][:15]\n",
    "\n",
    "# Sample resumes (replace with your extracted resume data)\n",
    "resumes = cv_df['CV'].to_list()"
   ]
  },
  {
   "cell_type": "code",
   "execution_count": 51,
   "metadata": {},
   "outputs": [],
   "source": [
    "# Initialize the DistilBERT tokenizer and model\n",
    "tokenizer = DistilBertTokenizer.from_pretrained('distilbert-base-uncased')\n",
    "model = DistilBertModel.from_pretrained('distilbert-base-uncased')\n",
    "\n",
    "\n",
    "# Tokenize and embed job descriptions\n",
    "job_description_embeddings = []\n",
    "for description in job_descriptions:\n",
    "    tokens = tokenizer(description, padding=True, truncation=True, return_tensors='pt')\n",
    "    with torch.no_grad():\n",
    "        output = model(**tokens)\n",
    "    embeddings = output.last_hidden_state.mean(dim=1).numpy()\n",
    "    job_description_embeddings.append(embeddings[0])  # Flatten the embeddings to 1D\n",
    "\n",
    "# Tokenize and embed resumes\n",
    "resume_embeddings = []\n",
    "for resume in resumes:\n",
    "    tokens = tokenizer(resume, padding=True, truncation=True, return_tensors='pt')\n",
    "    with torch.no_grad():\n",
    "        output = model(**tokens)\n",
    "    embeddings = output.last_hidden_state.mean(dim=1).numpy()\n",
    "    resume_embeddings.append(embeddings[0])  # Flatten the embeddings to 1D"
   ]
  },
  {
   "cell_type": "code",
   "execution_count": 61,
   "metadata": {},
   "outputs": [
    {
     "data": {
      "text/plain": [
       "((768,), (768,))"
      ]
     },
     "execution_count": 61,
     "metadata": {},
     "output_type": "execute_result"
    }
   ],
   "source": [
    "job_description_embeddings[0].shape, resume_embeddings[0].shape\n"
   ]
  },
  {
   "cell_type": "code",
   "execution_count": 62,
   "metadata": {},
   "outputs": [
    {
     "data": {
      "text/plain": [
       "(15, 2469)"
      ]
     },
     "execution_count": 62,
     "metadata": {},
     "output_type": "execute_result"
    }
   ],
   "source": [
    "len(job_description_embeddings), len(resume_embeddings)\n"
   ]
  },
  {
   "cell_type": "code",
   "execution_count": 63,
   "metadata": {},
   "outputs": [
    {
     "data": {
      "text/plain": [
       "array([[0.8208875 , 0.7767728 , 0.78489166, ..., 0.85897934, 0.77054554,\n",
       "        0.60554796],\n",
       "       [0.78442526, 0.71713597, 0.74813074, ..., 0.83248675, 0.7884389 ,\n",
       "        0.67844903],\n",
       "       [0.8139858 , 0.78959244, 0.783637  , ..., 0.84983313, 0.75802976,\n",
       "        0.6202631 ],\n",
       "       ...,\n",
       "       [0.8167765 , 0.7708845 , 0.7748319 , ..., 0.88432616, 0.7708576 ,\n",
       "        0.6345936 ],\n",
       "       [0.8439074 , 0.7782758 , 0.797146  , ..., 0.8783191 , 0.82519805,\n",
       "        0.6813816 ],\n",
       "       [0.8330029 , 0.7873484 , 0.7752358 , ..., 0.8890798 , 0.7842255 ,\n",
       "        0.6448568 ]], dtype=float32)"
      ]
     },
     "execution_count": 63,
     "metadata": {},
     "output_type": "execute_result"
    }
   ],
   "source": [
    "# Calculate cosine similarity between job descriptions and resumes\n",
    "similarity_scores = cosine_similarity(job_description_embeddings, resume_embeddings)\n",
    "similarity_scores"
   ]
  },
  {
   "cell_type": "code",
   "execution_count": 64,
   "metadata": {},
   "outputs": [
    {
     "name": "stdout",
     "output_type": "stream",
     "text": [
      "Top candidates for JD 1 - Postition: Sales Specialist\n",
      "  Candidate 1949 - Similarity Score: 0.9415 - HR/18827609.pdf\n",
      "  Candidate 291 - Similarity Score: 0.9388 - AGRICULTURE/62994611.pdf\n",
      "  Candidate 478 - Similarity Score: 0.9387 - ARTS/43622023.pdf\n",
      "  Candidate 28 - Similarity Score: 0.9377 - ACCOUNTANT/16237710.pdf\n",
      "  Candidate 1803 - Similarity Score: 0.9314 - HEALTHCARE/10466208.pdf\n",
      "\n",
      "Top candidates for JD 2 - Postition: Apple Solutions Consultant\n",
      "  Candidate 168 - Similarity Score: 0.9236 - ADVOCATE/22391901.pdf\n",
      "  Candidate 904 - Similarity Score: 0.9165 - BUSINESS-DEVELOPMENT/95382114.pdf\n",
      "  Candidate 1730 - Similarity Score: 0.9159 - FITNESS/21238396.pdf\n",
      "  Candidate 952 - Similarity Score: 0.9155 - CHEF/21869994.pdf\n",
      "  Candidate 482 - Similarity Score: 0.9146 - ARTS/54100393.pdf\n",
      "\n",
      "Top candidates for JD 3 - Postition: Licensing Coordinator - Consumer Products\n",
      "  Candidate 478 - Similarity Score: 0.9598 - ARTS/43622023.pdf\n",
      "  Candidate 2153 - Similarity Score: 0.9496 - PUBLIC-RELATIONS/12237267.pdf\n",
      "  Candidate 1189 - Similarity Score: 0.9458 - CONSULTANT/26234972.pdf\n",
      "  Candidate 2271 - Similarity Score: 0.9440 - SALES/15620421.pdf\n",
      "  Candidate 1803 - Similarity Score: 0.9428 - HEALTHCARE/10466208.pdf\n",
      "\n",
      "Top candidates for JD 4 - Postition: Web Designer\n",
      "  Candidate 1279 - Similarity Score: 0.9487 - DESIGNER/18979238.pdf\n",
      "  Candidate 1949 - Similarity Score: 0.9438 - HR/18827609.pdf\n",
      "  Candidate 478 - Similarity Score: 0.9380 - ARTS/43622023.pdf\n",
      "  Candidate 1009 - Similarity Score: 0.9357 - CHEF/53265899.pdf\n",
      "  Candidate 2444 - Similarity Score: 0.9341 - TEACHER/37660306.pdf\n",
      "\n",
      "Top candidates for JD 5 - Postition: Web Developer\n",
      "  Candidate 291 - Similarity Score: 0.9501 - AGRICULTURE/62994611.pdf\n",
      "  Candidate 478 - Similarity Score: 0.9465 - ARTS/43622023.pdf\n",
      "  Candidate 1279 - Similarity Score: 0.9446 - DESIGNER/18979238.pdf\n",
      "  Candidate 1368 - Similarity Score: 0.9408 - DIGITAL-MEDIA/14761906.pdf\n",
      "  Candidate 1949 - Similarity Score: 0.9378 - HR/18827609.pdf\n",
      "\n",
      "Top candidates for JD 6 - Postition: Frontend Web Developer\n",
      "  Candidate 1327 - Similarity Score: 0.9255 - DESIGNER/36269672.pdf\n",
      "  Candidate 1730 - Similarity Score: 0.9244 - FITNESS/21238396.pdf\n",
      "  Candidate 1358 - Similarity Score: 0.9191 - DIGITAL-MEDIA/11270462.pdf\n",
      "  Candidate 2254 - Similarity Score: 0.9169 - SALES/10464113.pdf\n",
      "  Candidate 482 - Similarity Score: 0.9167 - ARTS/54100393.pdf\n",
      "\n",
      "Top candidates for JD 7 - Postition: Remote Website Designer\n",
      "  Candidate 478 - Similarity Score: 0.9613 - ARTS/43622023.pdf\n",
      "  Candidate 1949 - Similarity Score: 0.9590 - HR/18827609.pdf\n",
      "  Candidate 2153 - Similarity Score: 0.9581 - PUBLIC-RELATIONS/12237267.pdf\n",
      "  Candidate 1979 - Similarity Score: 0.9579 - HR/27165830.pdf\n",
      "  Candidate 291 - Similarity Score: 0.9574 - AGRICULTURE/62994611.pdf\n",
      "\n",
      "Top candidates for JD 8 - Postition: Web Designer\n",
      "  Candidate 478 - Similarity Score: 0.9577 - ARTS/43622023.pdf\n",
      "  Candidate 1949 - Similarity Score: 0.9530 - HR/18827609.pdf\n",
      "  Candidate 2153 - Similarity Score: 0.9480 - PUBLIC-RELATIONS/12237267.pdf\n",
      "  Candidate 1960 - Similarity Score: 0.9478 - HR/21830565.pdf\n",
      "  Candidate 482 - Similarity Score: 0.9469 - ARTS/54100393.pdf\n",
      "\n",
      "Top candidates for JD 9 - Postition: Web Designer\n",
      "  Candidate 291 - Similarity Score: 0.9542 - AGRICULTURE/62994611.pdf\n",
      "  Candidate 1949 - Similarity Score: 0.9494 - HR/18827609.pdf\n",
      "  Candidate 478 - Similarity Score: 0.9493 - ARTS/43622023.pdf\n",
      "  Candidate 1155 - Similarity Score: 0.9447 - CONSULTANT/15119529.pdf\n",
      "  Candidate 2172 - Similarity Score: 0.9434 - PUBLIC-RELATIONS/16620172.pdf\n",
      "\n",
      "Top candidates for JD 10 - Postition: SR. Web Designer\n",
      "  Candidate 1562 - Similarity Score: 0.9600 - ENGINEERING/82125182.pdf\n",
      "  Candidate 291 - Similarity Score: 0.9570 - AGRICULTURE/62994611.pdf\n",
      "  Candidate 1960 - Similarity Score: 0.9540 - HR/21830565.pdf\n",
      "  Candidate 1979 - Similarity Score: 0.9518 - HR/27165830.pdf\n",
      "  Candidate 1949 - Similarity Score: 0.9490 - HR/18827609.pdf\n",
      "\n",
      "Top candidates for JD 11 - Postition: Web Developer\n",
      "  Candidate 1949 - Similarity Score: 0.9611 - HR/18827609.pdf\n",
      "  Candidate 291 - Similarity Score: 0.9564 - AGRICULTURE/62994611.pdf\n",
      "  Candidate 1155 - Similarity Score: 0.9562 - CONSULTANT/15119529.pdf\n",
      "  Candidate 2153 - Similarity Score: 0.9556 - PUBLIC-RELATIONS/12237267.pdf\n",
      "  Candidate 2299 - Similarity Score: 0.9531 - SALES/22319662.pdf\n",
      "\n",
      "Top candidates for JD 12 - Postition: Web Developer\n",
      "  Candidate 478 - Similarity Score: 0.9592 - ARTS/43622023.pdf\n",
      "  Candidate 465 - Similarity Score: 0.9465 - ARTS/34146825.pdf\n",
      "  Candidate 1279 - Similarity Score: 0.9449 - DESIGNER/18979238.pdf\n",
      "  Candidate 291 - Similarity Score: 0.9448 - AGRICULTURE/62994611.pdf\n",
      "  Candidate 1949 - Similarity Score: 0.9433 - HR/18827609.pdf\n",
      "\n",
      "Top candidates for JD 13 - Postition: Senior UI Designer\n",
      "  Candidate 478 - Similarity Score: 0.9459 - ARTS/43622023.pdf\n",
      "  Candidate 1279 - Similarity Score: 0.9446 - DESIGNER/18979238.pdf\n",
      "  Candidate 1949 - Similarity Score: 0.9428 - HR/18827609.pdf\n",
      "  Candidate 291 - Similarity Score: 0.9390 - AGRICULTURE/62994611.pdf\n",
      "  Candidate 1327 - Similarity Score: 0.9375 - DESIGNER/36269672.pdf\n",
      "\n",
      "Top candidates for JD 14 - Postition: Wordpress Web Developer\n",
      "  Candidate 1307 - Similarity Score: 0.9450 - DESIGNER/26790545.pdf\n",
      "  Candidate 2091 - Similarity Score: 0.9286 - INFORMATION-TECHNOLOGY/26768723.pdf\n",
      "  Candidate 1231 - Similarity Score: 0.9286 - CONSULTANT/65062795.pdf\n",
      "  Candidate 1416 - Similarity Score: 0.9174 - DIGITAL-MEDIA/27981289.pdf\n",
      "  Candidate 238 - Similarity Score: 0.9129 - AGRICULTURE/11676151.pdf\n",
      "\n",
      "Top candidates for JD 15 - Postition: UI Web Designer\n",
      "  Candidate 482 - Similarity Score: 0.9563 - ARTS/54100393.pdf\n",
      "  Candidate 478 - Similarity Score: 0.9542 - ARTS/43622023.pdf\n",
      "  Candidate 1279 - Similarity Score: 0.9516 - DESIGNER/18979238.pdf\n",
      "  Candidate 291 - Similarity Score: 0.9499 - AGRICULTURE/62994611.pdf\n",
      "  Candidate 402 - Similarity Score: 0.9469 - ARTS/12413512.pdf\n",
      "\n"
     ]
    }
   ],
   "source": [
    "# Rank candidates for each job description based on similarity scores\n",
    "num_top_candidates = 5\n",
    "top_candidates = []\n",
    "\n",
    "for i, job_description in enumerate(job_descriptions):\n",
    "    candidates_with_scores = list(enumerate(similarity_scores[i]))\n",
    "    candidates_with_scores.sort(key=lambda x: x[1], reverse=True)\n",
    "    top_candidates_for_job = candidates_with_scores[:num_top_candidates]\n",
    "    top_candidates.append(top_candidates_for_job)\n",
    "\n",
    "# Print the top candidates for each job description\n",
    "for i, job_description in enumerate(job_descriptions):\n",
    "    print(f\"Top candidates for JD {i+1} - Postition: {jd_df['position_title'][i]}\")\n",
    "    for candidate_index, score in top_candidates[i]:\n",
    "        print(f\"  Candidate {candidate_index + 1} - Similarity Score: {score:.4f} - {cv_df['Category'][candidate_index]}/{cv_df['ID'][candidate_index]}.pdf\")\n",
    "        # print(f\"  Resume: {resumes[candidate_index]}\")\n",
    "    print()"
   ]
  },
  {
   "cell_type": "code",
   "execution_count": 56,
   "metadata": {},
   "outputs": [],
   "source": [
    "# Function to rank top candidates\n",
    "def get_top_candidates(jd_index, num_top_candidates=5):\n",
    "    candidates_with_scores = list(enumerate(similarity_scores[jd_index]))\n",
    "    candidates_with_scores.sort(key=lambda x: x[1], reverse=True)\n",
    "    top_candidates_for_job = candidates_with_scores[:num_top_candidates]\n",
    "    \n",
    "    results = []\n",
    "    for candidate_index, score in top_candidates_for_job:\n",
    "        candidate_info = (f\"Candidate {candidate_index + 1} - \"\n",
    "                          f\"Similarity Score: {score:.4f} - \"\n",
    "                          f\"{cv_df['Category'][candidate_index]}/{cv_df['ID'][candidate_index]}.pdf\")\n",
    "        results.append(candidate_info)\n",
    "    \n",
    "    return \"\\n\".join(results)"
   ]
  },
  {
   "cell_type": "code",
   "execution_count": 57,
   "metadata": {},
   "outputs": [
    {
     "name": "stdout",
     "output_type": "stream",
     "text": [
      "Requirement already satisfied: gradio in /opt/homebrew/lib/python3.11/site-packages (5.3.0)\n",
      "Requirement already satisfied: aiofiles<24.0,>=22.0 in /opt/homebrew/lib/python3.11/site-packages (from gradio) (23.2.1)\n",
      "Requirement already satisfied: anyio<5.0,>=3.0 in /Users/samyukthaganesh/Library/Python/3.11/lib/python/site-packages (from gradio) (4.6.2.post1)\n",
      "Requirement already satisfied: fastapi<1.0,>=0.115.2 in /opt/homebrew/lib/python3.11/site-packages (from gradio) (0.115.3)\n",
      "Requirement already satisfied: ffmpy in /opt/homebrew/lib/python3.11/site-packages (from gradio) (0.4.0)\n",
      "Requirement already satisfied: gradio-client==1.4.2 in /opt/homebrew/lib/python3.11/site-packages (from gradio) (1.4.2)\n",
      "Requirement already satisfied: httpx>=0.24.1 in /Users/samyukthaganesh/Library/Python/3.11/lib/python/site-packages (from gradio) (0.27.2)\n",
      "Requirement already satisfied: huggingface-hub>=0.25.1 in /opt/homebrew/lib/python3.11/site-packages (from gradio) (0.26.1)\n",
      "Requirement already satisfied: jinja2<4.0 in /Users/samyukthaganesh/Library/Python/3.11/lib/python/site-packages (from gradio) (3.1.4)\n",
      "Requirement already satisfied: markupsafe~=2.0 in /opt/homebrew/lib/python3.11/site-packages (from gradio) (2.1.5)\n",
      "Requirement already satisfied: numpy<3.0,>=1.0 in /opt/homebrew/lib/python3.11/site-packages (from gradio) (1.23.5)\n",
      "Requirement already satisfied: orjson~=3.0 in /opt/homebrew/lib/python3.11/site-packages (from gradio) (3.10.10)\n",
      "Requirement already satisfied: packaging in /Users/samyukthaganesh/Library/Python/3.11/lib/python/site-packages (from gradio) (24.1)\n",
      "Requirement already satisfied: pandas<3.0,>=1.0 in /opt/homebrew/lib/python3.11/site-packages (from gradio) (2.2.3)\n",
      "Requirement already satisfied: pillow<11.0,>=8.0 in /opt/homebrew/lib/python3.11/site-packages (from gradio) (10.4.0)\n",
      "Requirement already satisfied: pydantic>=2.0 in /opt/homebrew/lib/python3.11/site-packages (from gradio) (2.9.2)\n",
      "Requirement already satisfied: pydub in /opt/homebrew/lib/python3.11/site-packages (from gradio) (0.25.1)\n",
      "Requirement already satisfied: python-multipart>=0.0.9 in /opt/homebrew/lib/python3.11/site-packages (from gradio) (0.0.12)\n",
      "Requirement already satisfied: pyyaml<7.0,>=5.0 in /Users/samyukthaganesh/Library/Python/3.11/lib/python/site-packages (from gradio) (6.0.2)\n",
      "Requirement already satisfied: ruff>=0.2.2 in /opt/homebrew/lib/python3.11/site-packages (from gradio) (0.7.0)\n",
      "Requirement already satisfied: semantic-version~=2.0 in /opt/homebrew/lib/python3.11/site-packages (from gradio) (2.10.0)\n",
      "Requirement already satisfied: starlette<1.0,>=0.40.0 in /opt/homebrew/lib/python3.11/site-packages (from gradio) (0.41.0)\n",
      "Requirement already satisfied: tomlkit==0.12.0 in /opt/homebrew/lib/python3.11/site-packages (from gradio) (0.12.0)\n",
      "Requirement already satisfied: typer<1.0,>=0.12 in /opt/homebrew/lib/python3.11/site-packages (from gradio) (0.12.5)\n",
      "Requirement already satisfied: typing-extensions~=4.0 in /Users/samyukthaganesh/Library/Python/3.11/lib/python/site-packages (from gradio) (4.12.2)\n",
      "Requirement already satisfied: uvicorn>=0.14.0 in /opt/homebrew/lib/python3.11/site-packages (from gradio) (0.32.0)\n",
      "Requirement already satisfied: fsspec in /opt/homebrew/lib/python3.11/site-packages (from gradio-client==1.4.2->gradio) (2024.9.0)\n",
      "Requirement already satisfied: websockets<13.0,>=10.0 in /opt/homebrew/lib/python3.11/site-packages (from gradio-client==1.4.2->gradio) (12.0)\n",
      "Requirement already satisfied: idna>=2.8 in /Users/samyukthaganesh/Library/Python/3.11/lib/python/site-packages (from anyio<5.0,>=3.0->gradio) (3.10)\n",
      "Requirement already satisfied: sniffio>=1.1 in /Users/samyukthaganesh/Library/Python/3.11/lib/python/site-packages (from anyio<5.0,>=3.0->gradio) (1.3.1)\n",
      "Requirement already satisfied: certifi in /Users/samyukthaganesh/Library/Python/3.11/lib/python/site-packages (from httpx>=0.24.1->gradio) (2024.8.30)\n",
      "Requirement already satisfied: httpcore==1.* in /Users/samyukthaganesh/Library/Python/3.11/lib/python/site-packages (from httpx>=0.24.1->gradio) (1.0.6)\n",
      "Requirement already satisfied: h11<0.15,>=0.13 in /Users/samyukthaganesh/Library/Python/3.11/lib/python/site-packages (from httpcore==1.*->httpx>=0.24.1->gradio) (0.14.0)\n",
      "Requirement already satisfied: filelock in /opt/homebrew/lib/python3.11/site-packages (from huggingface-hub>=0.25.1->gradio) (3.16.1)\n",
      "Requirement already satisfied: requests in /Users/samyukthaganesh/Library/Python/3.11/lib/python/site-packages (from huggingface-hub>=0.25.1->gradio) (2.32.3)\n",
      "Requirement already satisfied: tqdm>=4.42.1 in /opt/homebrew/lib/python3.11/site-packages (from huggingface-hub>=0.25.1->gradio) (4.66.5)\n",
      "Requirement already satisfied: python-dateutil>=2.8.2 in /Users/samyukthaganesh/Library/Python/3.11/lib/python/site-packages (from pandas<3.0,>=1.0->gradio) (2.9.0.post0)\n",
      "Requirement already satisfied: pytz>=2020.1 in /opt/homebrew/lib/python3.11/site-packages (from pandas<3.0,>=1.0->gradio) (2024.2)\n",
      "Requirement already satisfied: tzdata>=2022.7 in /opt/homebrew/lib/python3.11/site-packages (from pandas<3.0,>=1.0->gradio) (2024.2)\n",
      "Requirement already satisfied: annotated-types>=0.6.0 in /opt/homebrew/lib/python3.11/site-packages (from pydantic>=2.0->gradio) (0.7.0)\n",
      "Requirement already satisfied: pydantic-core==2.23.4 in /opt/homebrew/lib/python3.11/site-packages (from pydantic>=2.0->gradio) (2.23.4)\n",
      "Requirement already satisfied: click>=8.0.0 in /opt/homebrew/lib/python3.11/site-packages (from typer<1.0,>=0.12->gradio) (8.1.7)\n",
      "Requirement already satisfied: shellingham>=1.3.0 in /opt/homebrew/lib/python3.11/site-packages (from typer<1.0,>=0.12->gradio) (1.5.4)\n",
      "Requirement already satisfied: rich>=10.11.0 in /opt/homebrew/lib/python3.11/site-packages (from typer<1.0,>=0.12->gradio) (13.9.2)\n",
      "Requirement already satisfied: six>=1.5 in /Users/samyukthaganesh/Library/Python/3.11/lib/python/site-packages (from python-dateutil>=2.8.2->pandas<3.0,>=1.0->gradio) (1.16.0)\n",
      "Requirement already satisfied: markdown-it-py>=2.2.0 in /opt/homebrew/lib/python3.11/site-packages (from rich>=10.11.0->typer<1.0,>=0.12->gradio) (3.0.0)\n",
      "Requirement already satisfied: pygments<3.0.0,>=2.13.0 in /Users/samyukthaganesh/Library/Python/3.11/lib/python/site-packages (from rich>=10.11.0->typer<1.0,>=0.12->gradio) (2.18.0)\n",
      "Requirement already satisfied: charset-normalizer<4,>=2 in /Users/samyukthaganesh/Library/Python/3.11/lib/python/site-packages (from requests->huggingface-hub>=0.25.1->gradio) (3.4.0)\n",
      "Requirement already satisfied: urllib3<3,>=1.21.1 in /Users/samyukthaganesh/Library/Python/3.11/lib/python/site-packages (from requests->huggingface-hub>=0.25.1->gradio) (2.2.3)\n",
      "Requirement already satisfied: mdurl~=0.1 in /opt/homebrew/lib/python3.11/site-packages (from markdown-it-py>=2.2.0->rich>=10.11.0->typer<1.0,>=0.12->gradio) (0.1.2)\n"
     ]
    }
   ],
   "source": [
    "!pip install gradio"
   ]
  },
  {
   "cell_type": "code",
   "execution_count": 70,
   "metadata": {},
   "outputs": [
    {
     "name": "stdout",
     "output_type": "stream",
     "text": [
      "* Running on local URL:  http://127.0.0.1:7871\n",
      "\n",
      "To create a public link, set `share=True` in `launch()`.\n"
     ]
    },
    {
     "data": {
      "text/html": [
       "<div><iframe src=\"http://127.0.0.1:7871/\" width=\"100%\" height=\"500\" allow=\"autoplay; camera; microphone; clipboard-read; clipboard-write;\" frameborder=\"0\" allowfullscreen></iframe></div>"
      ],
      "text/plain": [
       "<IPython.core.display.HTML object>"
      ]
     },
     "metadata": {},
     "output_type": "display_data"
    },
    {
     "data": {
      "text/plain": []
     },
     "execution_count": 70,
     "metadata": {},
     "output_type": "execute_result"
    }
   ],
   "source": [
    "import gradio as gr\n",
    "import pandas as pd\n",
    "import matplotlib.pyplot as plt\n",
    "import seaborn as sns\n",
    "import os\n",
    "\n",
    "# Define your function to get top candidates and visualize them\n",
    "def get_top_candidates(jd_index):\n",
    "    # Fetch top candidates\n",
    "    candidates_with_scores = list(enumerate(similarity_scores[jd_index]))\n",
    "    candidates_with_scores.sort(key=lambda x: x[1], reverse=True)\n",
    "    top_candidates = candidates_with_scores[:5]\n",
    "\n",
    "    # Prepare data for visualization\n",
    "    visualization_data = []\n",
    "    for candidate_index, score in top_candidates:\n",
    "        visualization_data.append({\n",
    "            'Candidate Index': candidate_index + 1,\n",
    "            'Similarity Score': score,\n",
    "            'Category': cv_df['Category'][candidate_index],\n",
    "            'Resume ID': cv_df['ID'][candidate_index]\n",
    "        })\n",
    "    \n",
    "    # Create a DataFrame for visualization\n",
    "    visualization_df = pd.DataFrame(visualization_data)\n",
    "    \n",
    "    return top_candidates, visualization_df\n",
    "\n",
    "def show_top_candidates(jd_selected, visualize):\n",
    "    jd_index = jd_df['position_title'].to_list().index(jd_selected)\n",
    "    top_candidates, visualization_df = get_top_candidates(jd_index)\n",
    "    \n",
    "    # Create a result string for the top candidates\n",
    "    result = f\"Top candidates for {jd_selected}:\\n\"\n",
    "    for candidate_index, score in top_candidates:\n",
    "        result += f\"Candidate {candidate_index + 1} - Similarity Score: {score:.4f} \\n\"\n",
    "    \n",
    "    # Check if visualization is needed\n",
    "    if visualize:\n",
    "        # Create bar plot for visualization\n",
    "        plt.figure(figsize=(10, 6))\n",
    "        sns.barplot(data=visualization_df, x='Candidate Index', y='Similarity Score', hue='Category', dodge=True)\n",
    "        plt.title(f'Top Candidates for {jd_selected}')\n",
    "        plt.xlabel('Candidate Index')\n",
    "        plt.ylabel('Similarity Score')\n",
    "        plt.ylim(0, 1)  # Adjust based on your similarity score range\n",
    "        plt.xticks(rotation=0)\n",
    "        plt.legend(title='Category', bbox_to_anchor=(1.05, 1), loc='upper left')\n",
    "        \n",
    "        # Annotate bars with actual scores\n",
    "        for index, row in visualization_df.iterrows():\n",
    "            plt.text(row['Candidate Index'] - 1, row['Similarity Score'] + 0.02, f\"{row['Similarity Score']:.4f}\", ha='center')\n",
    "        \n",
    "        # Save the plot\n",
    "        plot_filename = \"top_candidates_plot.png\"\n",
    "        plt.savefig(plot_filename)\n",
    "        plt.close()  # Close the plot to avoid displaying it here\n",
    "        \n",
    "        return result, plot_filename\n",
    "    \n",
    "    return result, None\n",
    "\n",
    "# Gradio interface\n",
    "gr_interface = gr.Interface(\n",
    "    fn=show_top_candidates,\n",
    "    inputs=[\n",
    "        gr.Dropdown(label=\"Select Job Description\", choices=jd_df['position_title'].to_list(), value=jd_df['position_title'][0]),\n",
    "        gr.Checkbox(label=\"Visualize Top Candidates\", value=False)\n",
    "    ],\n",
    "    outputs=[\"text\", \"image\"],\n",
    "    title=\"Top 5 Candidates for Job Description\",\n",
    "    description=\"Select a job description to see the top 5 candidates based on similarity scores.\"\n",
    ")\n",
    "\n",
    "# Launch Gradio interface\n",
    "gr_interface.launch()\n"
   ]
  },
  {
   "cell_type": "code",
   "execution_count": 71,
   "metadata": {},
   "outputs": [
    {
     "name": "stderr",
     "output_type": "stream",
     "text": [
      "Progress Bar: 100%|██████████| 2469/2469 [00:00<00:00, 8648.32it/s]\n"
     ]
    },
    {
     "name": "stdout",
     "output_type": "stream",
     "text": [
      "Top candidates for JD 1 - Position: Sales Specialist\n",
      "  Candidate 2271 - Similarity Score: 0.4060 \n",
      "  Candidate 402 - Similarity Score: 0.3835 \n",
      "  Candidate 700 - Similarity Score: 0.3691 \n",
      "  Candidate 1979 - Similarity Score: 0.3656 \n",
      "  Candidate 1306 - Similarity Score: 0.3564 \n",
      "\n",
      "Top candidates for JD 2 - Position: Apple Solutions Consultant\n",
      "  Candidate 1881 - Similarity Score: 0.2295 \n",
      "  Candidate 1279 - Similarity Score: 0.2106 \n",
      "  Candidate 1011 - Similarity Score: 0.1930 \n",
      "  Candidate 1979 - Similarity Score: 0.1887 \n",
      "  Candidate 478 - Similarity Score: 0.1885 \n",
      "\n",
      "Top candidates for JD 3 - Position: Licensing Coordinator - Consumer Products\n",
      "  Candidate 2271 - Similarity Score: 0.4095 \n",
      "  Candidate 1979 - Similarity Score: 0.3871 \n",
      "  Candidate 478 - Similarity Score: 0.3853 \n",
      "  Candidate 2224 - Similarity Score: 0.3820 \n",
      "  Candidate 1960 - Similarity Score: 0.3770 \n",
      "\n",
      "Top candidates for JD 4 - Position: Web Designer\n",
      "  Candidate 1306 - Similarity Score: 0.3129 \n",
      "  Candidate 951 - Similarity Score: 0.2882 \n",
      "  Candidate 2271 - Similarity Score: 0.2844 \n",
      "  Candidate 402 - Similarity Score: 0.2798 \n",
      "  Candidate 1960 - Similarity Score: 0.2731 \n",
      "\n",
      "Top candidates for JD 5 - Position: Web Developer\n",
      "  Candidate 402 - Similarity Score: 0.3655 \n",
      "  Candidate 1306 - Similarity Score: 0.3652 \n",
      "  Candidate 951 - Similarity Score: 0.3614 \n",
      "  Candidate 2271 - Similarity Score: 0.3582 \n",
      "  Candidate 478 - Similarity Score: 0.3493 \n",
      "\n",
      "Top candidates for JD 6 - Position: Frontend Web Developer\n",
      "  Candidate 951 - Similarity Score: 0.2708 \n",
      "  Candidate 482 - Similarity Score: 0.2637 \n",
      "  Candidate 700 - Similarity Score: 0.2613 \n",
      "  Candidate 1306 - Similarity Score: 0.2593 \n",
      "  Candidate 1327 - Similarity Score: 0.2588 \n",
      "\n",
      "Top candidates for JD 7 - Position: Remote Website Designer\n",
      "  Candidate 1224 - Similarity Score: 0.3928 \n",
      "  Candidate 1979 - Similarity Score: 0.3862 \n",
      "  Candidate 1306 - Similarity Score: 0.3853 \n",
      "  Candidate 1960 - Similarity Score: 0.3777 \n",
      "  Candidate 2271 - Similarity Score: 0.3769 \n",
      "\n",
      "Top candidates for JD 8 - Position: Web Designer\n",
      "  Candidate 1306 - Similarity Score: 0.4087 \n",
      "  Candidate 402 - Similarity Score: 0.3952 \n",
      "  Candidate 2271 - Similarity Score: 0.3910 \n",
      "  Candidate 700 - Similarity Score: 0.3814 \n",
      "  Candidate 1979 - Similarity Score: 0.3715 \n",
      "\n",
      "Top candidates for JD 9 - Position: Web Designer\n",
      "  Candidate 1279 - Similarity Score: 0.3632 \n",
      "  Candidate 2271 - Similarity Score: 0.3229 \n",
      "  Candidate 1306 - Similarity Score: 0.3195 \n",
      "  Candidate 1224 - Similarity Score: 0.3116 \n",
      "  Candidate 951 - Similarity Score: 0.3097 \n",
      "\n",
      "Top candidates for JD 10 - Position: SR. Web Designer\n",
      "  Candidate 1306 - Similarity Score: 0.4230 \n",
      "  Candidate 700 - Similarity Score: 0.4168 \n",
      "  Candidate 402 - Similarity Score: 0.3894 \n",
      "  Candidate 2271 - Similarity Score: 0.3742 \n",
      "  Candidate 1979 - Similarity Score: 0.3579 \n",
      "\n",
      "Top candidates for JD 11 - Position: Web Developer\n",
      "  Candidate 402 - Similarity Score: 0.3839 \n",
      "  Candidate 700 - Similarity Score: 0.3774 \n",
      "  Candidate 2271 - Similarity Score: 0.3734 \n",
      "  Candidate 1306 - Similarity Score: 0.3706 \n",
      "  Candidate 1979 - Similarity Score: 0.3602 \n",
      "\n",
      "Top candidates for JD 12 - Position: Web Developer\n",
      "  Candidate 478 - Similarity Score: 0.3818 \n",
      "  Candidate 2271 - Similarity Score: 0.3671 \n",
      "  Candidate 402 - Similarity Score: 0.3608 \n",
      "  Candidate 1960 - Similarity Score: 0.3532 \n",
      "  Candidate 1979 - Similarity Score: 0.3529 \n",
      "\n",
      "Top candidates for JD 13 - Position: Senior UI Designer\n",
      "  Candidate 2271 - Similarity Score: 0.3912 \n",
      "  Candidate 1979 - Similarity Score: 0.3799 \n",
      "  Candidate 402 - Similarity Score: 0.3794 \n",
      "  Candidate 1306 - Similarity Score: 0.3721 \n",
      "  Candidate 1224 - Similarity Score: 0.3713 \n",
      "\n",
      "Top candidates for JD 14 - Position: Wordpress Web Developer\n",
      "  Candidate 540 - Similarity Score: 0.2446 \n",
      "  Candidate 763 - Similarity Score: 0.2137 \n",
      "  Candidate 1307 - Similarity Score: 0.2014 \n",
      "  Candidate 1231 - Similarity Score: 0.2011 \n",
      "  Candidate 2033 - Similarity Score: 0.1895 \n",
      "\n",
      "Top candidates for JD 15 - Position: UI Web Designer\n",
      "  Candidate 1306 - Similarity Score: 0.4223 \n",
      "  Candidate 402 - Similarity Score: 0.4191 \n",
      "  Candidate 2271 - Similarity Score: 0.3959 \n",
      "  Candidate 2033 - Similarity Score: 0.3899 \n",
      "  Candidate 700 - Similarity Score: 0.3866 \n",
      "\n"
     ]
    }
   ],
   "source": [
    "import pandas as pd\n",
    "import re\n",
    "import string\n",
    "import contractions\n",
    "from tqdm import tqdm\n",
    "from sklearn.feature_extraction.text import TfidfVectorizer\n",
    "from sklearn.metrics.pairwise import cosine_similarity\n",
    "\n",
    "# Load job description data\n",
    "df = pd.read_csv(\"/Users/samyukthaganesh/Documents/Samyuktha/University/MachineLearning/SEM7Project/training_data.csv\")\n",
    "jd_df = pd.DataFrame(df)\n",
    "\n",
    "# Text cleaning function (same as before)\n",
    "def text_cleaning(text: str) -> str:\n",
    "    if pd.isnull(text):\n",
    "        return ''\n",
    "    \n",
    "    text = text.lower().strip()\n",
    "    translator = str.maketrans('', '', string.punctuation)\n",
    "    text = contractions.fix(text)\n",
    "    text = re.sub(r'http\\S+|www\\S+|https\\S+', '', text)  # Remove URLs\n",
    "    text = re.sub(r'\\S+@\\S+', '', text)  # Remove emails\n",
    "    text = re.sub(r'\\b\\d{1,3}[-./]?\\d{1,3}[-./]?\\d{1,4}\\b', '', text)  # Remove phone numbers\n",
    "    text = text.translate(translator)  # Remove punctuation\n",
    "    text = re.sub(r'[^a-zA-Z]', ' ', text)  # Remove non-alphabetic characters\n",
    "    return text.strip()\n",
    "\n",
    "# Load resume data and preprocess\n",
    "df = pd.read_csv(\"/Users/samyukthaganesh/Documents/Samyuktha/University/MachineLearning/SEM7Project/pdf_extracted_skills_education.csv\")\n",
    "cv_df = df[~(df['Skills'].isna() & df['Education'].isna())].reset_index(drop=True)\n",
    "cv_df = cv_df.fillna(value='')  # Fill missing data\n",
    "cv_df['CV'] = cv_df['Skills'] + ' ' + cv_df['Education']  # Combine Skills and Education\n",
    "\n",
    "# Clean the CV text\n",
    "cv_df['CV'] = cv_df['CV'].progress_apply(text_cleaning)\n",
    "\n",
    "# Clean the job descriptions\n",
    "job_descriptions = jd_df['job_description'].apply(text_cleaning)[:15].to_list()\n",
    "\n",
    "# Sample resumes (replace with your extracted resume data)\n",
    "resumes = cv_df['CV'].to_list()\n",
    "\n",
    "# TF-IDF Vectorization\n",
    "tfidf_vectorizer = TfidfVectorizer()\n",
    "\n",
    "# Combine job descriptions and resumes into one list for vectorization\n",
    "combined_text = job_descriptions + resumes\n",
    "\n",
    "# Convert the text data into TF-IDF features (vectors)\n",
    "tfidf_matrix = tfidf_vectorizer.fit_transform(combined_text)\n",
    "\n",
    "# Split the TF-IDF matrix into job descriptions and resumes\n",
    "job_description_vectors = tfidf_matrix[:len(job_descriptions)]\n",
    "resume_vectors = tfidf_matrix[len(job_descriptions):]\n",
    "\n",
    "# Calculate cosine similarity between job descriptions and resumes\n",
    "similarity_scores = cosine_similarity(job_description_vectors, resume_vectors)\n",
    "\n",
    "# Rank candidates for each job description based on similarity scores\n",
    "num_top_candidates = 5\n",
    "top_candidates = []\n",
    "\n",
    "for i, job_description in enumerate(job_descriptions):\n",
    "    candidates_with_scores = list(enumerate(similarity_scores[i]))\n",
    "    candidates_with_scores.sort(key=lambda x: x[1], reverse=True)\n",
    "    top_candidates_for_job = candidates_with_scores[:num_top_candidates]\n",
    "    top_candidates.append(top_candidates_for_job)\n",
    "\n",
    "# Print the top candidates for each job description\n",
    "for i, job_description in enumerate(job_descriptions):\n",
    "    print(f\"Top candidates for JD {i+1} - Position: {jd_df['position_title'][i]}\")\n",
    "    for candidate_index, score in top_candidates[i]:\n",
    "        print(f\"  Candidate {candidate_index + 1} - Similarity Score: {score:.4f} \")\n",
    "    print()\n",
    "\n",
    "# Function to rank top candidates\n",
    "def get_top_candidates(jd_index, num_top_candidates=5):\n",
    "    candidates_with_scores = list(enumerate(similarity_scores[jd_index]))\n",
    "    candidates_with_scores.sort(key=lambda x: x[1], reverse=True)\n",
    "    top_candidates_for_job = candidates_with_scores[:num_top_candidates]\n",
    "    \n",
    "    results = []\n",
    "    for candidate_index, score in top_candidates_for_job:\n",
    "        candidate_info = (f\"Candidate {candidate_index + 1} - \"\n",
    "                          f\"Similarity Score: {score:.4f} - \"\n",
    "                          f\"{cv_df['Category'][candidate_index]}/{cv_df['ID'][candidate_index]}.pdf\")\n",
    "        results.append(candidate_info)\n",
    "    \n",
    "    return \"\\n\".join(results)\n",
    "\n",
    "# If you want to implement the Gradio interface, you can do the same as before.\n"
   ]
  },
  {
   "cell_type": "code",
   "execution_count": null,
   "metadata": {},
   "outputs": [],
   "source": []
  }
 ],
 "metadata": {
  "kernelspec": {
   "display_name": "Python 3",
   "language": "python",
   "name": "python3"
  },
  "language_info": {
   "codemirror_mode": {
    "name": "ipython",
    "version": 3
   },
   "file_extension": ".py",
   "mimetype": "text/x-python",
   "name": "python",
   "nbconvert_exporter": "python",
   "pygments_lexer": "ipython3",
   "version": "3.11.5"
  },
  "orig_nbformat": 4,
  "vscode": {
   "interpreter": {
    "hash": "b0fa6594d8f4cbf19f97940f81e996739fb7646882a419484c72d19e05852a7e"
   }
  }
 },
 "nbformat": 4,
 "nbformat_minor": 2
}
